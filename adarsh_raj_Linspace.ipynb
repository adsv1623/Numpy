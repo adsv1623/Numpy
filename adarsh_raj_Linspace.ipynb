{
  "nbformat": 4,
  "nbformat_minor": 0,
  "metadata": {
    "colab": {
      "name": "adarsh raj - Linspace.ipynb",
      "provenance": []
    },
    "kernelspec": {
      "name": "python3",
      "display_name": "Python 3"
    }
  },
  "cells": [
    {
      "cell_type": "code",
      "metadata": {
        "id": "LEu6s_BZdTjP",
        "colab_type": "code",
        "outputId": "56748432-31aa-445f-8bb7-eeb29c6c7ed8",
        "colab": {
          "base_uri": "https://localhost:8080/",
          "height": 68
        }
      },
      "source": [
        "#generator has been used in below problem Also Error are being Handeled for NON_Negative STEPS And Encapsualtion Technique used\n",
        "def linespace(low,high,space):\n",
        "      #conditionBlock        \n",
        "  def cond(low,high,diff):\n",
        "        if diff>0:\n",
        "            return low<=high\n",
        "        else:\n",
        "            return low>=high\n",
        "\n",
        "\n",
        "  #GeneratorFunction\n",
        "  def frange(low,high,space):\n",
        "    #Handling With ValueError\n",
        "    if space<0:\n",
        "        try:\n",
        "            raise ValueError(\"Number of samples, %s, must be non-negative.\" % space)\n",
        "        except ValueError:\n",
        "            raise\n",
        "    else:\n",
        "        diff=(high-low)/(space-1)      #Finding Next Value\n",
        "        while True:\n",
        "            yield(round(low,8))\n",
        "            low = low + diff\n",
        "            if not cond(low,high,diff):     #checking whether low >High Or low < high with diff>0 or diff<0 Respectively\n",
        "                break\n",
        "\n",
        "  return list(frange(low,high,space))\n",
        "    \n",
        "    \n",
        "if __name__ == '__main__':\n",
        " arr1=linespace(int(input()),int(input()),int(input()))\n",
        " print(arr1)"
      ],
      "execution_count": 0,
      "outputs": [
        {
          "output_type": "stream",
          "text": [
            "1\n",
            "1\n",
            "5\n"
          ],
          "name": "stdout"
        }
      ]
    },
    {
      "cell_type": "code",
      "metadata": {
        "id": "WP7HYJlviRD5",
        "colab_type": "code",
        "outputId": "f1ad3882-4c19-4270-af55-542a7f7fd59b",
        "colab": {
          "base_uri": "https://localhost:8080/",
          "height": 68
        }
      },
      "source": [
        "import numpy as np\n",
        "np.linspace(-10,10,10)"
      ],
      "execution_count": 0,
      "outputs": [
        {
          "output_type": "execute_result",
          "data": {
            "text/plain": [
              "array([-10.        ,  -7.77777778,  -5.55555556,  -3.33333333,\n",
              "        -1.11111111,   1.11111111,   3.33333333,   5.55555556,\n",
              "         7.77777778,  10.        ])"
            ]
          },
          "metadata": {
            "tags": []
          },
          "execution_count": 2
        }
      ]
    },
    {
      "cell_type": "code",
      "metadata": {
        "id": "_tSSDe2JiYUF",
        "colab_type": "code",
        "colab": {}
      },
      "source": [
        ""
      ],
      "execution_count": 0,
      "outputs": []
    }
  ]
}